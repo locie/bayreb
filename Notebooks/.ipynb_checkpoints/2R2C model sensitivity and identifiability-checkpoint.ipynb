{
 "cells": [
  {
   "cell_type": "code",
   "execution_count": null,
   "metadata": {
    "collapsed": true
   },
   "outputs": [],
   "source": [
    "problem = {'num_vars': 5,\n",
    "           'names': ['R1', 'R2', 'C1', 'C2', 'xe_0'],\n",
    "           'bounds': [[1e-2, 3e-2],\n",
    "                      [1e-3, 3e-3],\n",
    "                      [1e7, 2e7],\n",
    "                      [1.5e6, 2.5e6],\n",
    "                      [25, 35]]}\n",
    "\n",
    "# Create a matrix of model inputs for the FAST method\n",
    "from SALib.sample import fast_sampler\n",
    "X = fast_sampler.sample(problem, 5000, M=4)\n",
    "# Evaluate the output on each parameter of the sample\n",
    "Y = np.zeros(len(X))\n",
    "for i, theta in enumerate(X):\n",
    "    y    = RC_model_simulation(time_, theta[0], theta[1], theta[2], theta[3], theta[4])\n",
    "    Y[i] = np.sum((y-T_in)**2)\n",
    "# Analyse and return sensitivity coefficients\n",
    "from SALib.analyze import fast\n",
    "sa_results = fast.analyze(problem, Y, M=4)\n",
    "\n",
    "R2_vec = np.linspace(2e-3, 3e-3, num=50)\n",
    "C2_vec = np.linspace(1e6, 3e6, num=50)\n",
    "Ri, Ci = np.meshgrid(R2_vec, C2_vec)\n",
    "\n",
    "# Series of optimizations where the R2 and C2 parameters are fixed\n",
    "theta_init = [1e-2, 1e7, 20]\n",
    "residuals = np.zeros_like(Ri.ravel())\n",
    "for i in range(len(Ri.ravel())):\n",
    "    \n",
    "    def RC_model_simulation_R2C2fixed(time_, R1, C1, xe_0):\n",
    "        return RC_model_simulation(time_, R1, Ri.ravel()[i], C1, Ci.ravel()[i], xe_0)\n",
    "        \n",
    "    popt, pcov = curve_fit(RC_model_simulation_R2C2fixed,\n",
    "                           xdata = time_,\n",
    "                           ydata = T_in,\n",
    "                           p0 = theta_init,\n",
    "                           method='lm')\n",
    "    \n",
    "    y    = RC_model_simulation(time_, popt[0], Ri.ravel()[i], popt[1],\n",
    "                               Ci.ravel()[i], popt[2])\n",
    "    residuals[i] = np.sum((y-T_in)**2)\n",
    "\n",
    "# This is equivalent to the Likelihood ratio function\n",
    "profile_likelihood = np.reshape((residuals-r_opt), (50,50))\n",
    "# Quantiles of the chi2 distribution\n",
    "percentiles = [0, 50, 75, 95, 99, 100]\n",
    "levels = [ np.percentile(np.random.chisquare(2, size = 9000), q=_) \n",
    "            for _ in percentiles ]\n",
    "\n",
    "# Plotting          \n",
    "fig = plt.figure(figsize=(4, 3))\n",
    "cax = plt.contourf(Ri*1000, Ci/1e6, profile_likelihood,\n",
    "                   levels = levels, cmap = 'Greys_r')\n",
    "plt.xlabel('Thermal resistance $R_2$ (.$10^{-3}$ W/K)')\n",
    "plt.ylabel('Thermal capacitance $C_2$ (.$10^6$ J/K)')\n",
    "cbar = fig.colorbar(cax, ticks=levels)\n",
    "cbar.ax.set_yticklabels(percentiles)  # vertically oriented colorbar"
   ]
  }
 ],
 "metadata": {
  "anaconda-cloud": {},
  "kernelspec": {
   "display_name": "Python [default]",
   "language": "python",
   "name": "python3"
  },
  "language_info": {
   "codemirror_mode": {
    "name": "ipython",
    "version": 3
   },
   "file_extension": ".py",
   "mimetype": "text/x-python",
   "name": "python",
   "nbconvert_exporter": "python",
   "pygments_lexer": "ipython3",
   "version": "3.5.2"
  }
 },
 "nbformat": 4,
 "nbformat_minor": 1
}
