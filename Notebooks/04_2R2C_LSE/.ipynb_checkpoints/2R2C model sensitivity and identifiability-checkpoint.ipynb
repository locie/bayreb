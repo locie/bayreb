{
 "cells": [
  {
   "cell_type": "markdown",
   "metadata": {},
   "source": [
    "# Sensitivity analysis and likelihood-based confidence regions\n",
    "\n",
    "This tutorial is the implementation of the example given in the review paper published in *Energy and Buildings*:\n",
    "\n",
    "[Rouchier S. (2018) Solving inverse problems in building physics: an overview of guidelines for a careful and optimal use of data. *Energy and Buildings*, DOI:10.1016/j.enbuild.2018.02.009](https://www.sciencedirect.com/science/article/pii/S0378778817317942)\n",
    "\n",
    "## Introduction\n",
    "\n",
    "This notebook follows the previous exercise on 2R2C model parameter estimation in a deterministic setting. We show how to run a sensitivity analysis on its parameters, and how to draw 2-dimensional likelihood-based confidence regions.\n",
    "\n",
    "As in the previous notebook, we start by loading the data and defining the 2R2C model used for inference."
   ]
  },
  {
   "cell_type": "code",
   "execution_count": 1,
   "metadata": {
    "collapsed": true
   },
   "outputs": [],
   "source": [
    "import pandas\n",
    "import numpy as np\n",
    "from scipy.linalg import expm\n",
    "from numpy.linalg import inv\n",
    "\n",
    "def dot3(A,B,C):\n",
    "    \"\"\" Useful function that computes the dot product of three matrices\"\"\"\n",
    "    return np.dot(A, np.dot(B,C))\n",
    "\n",
    "dataset = pandas.read_csv('data01.csv')\n",
    "time_ = np.array(dataset['Time'])\n",
    "T_in  = np.array(dataset['T_int'])  # indoor temperature\n",
    "T_ext = np.array(dataset['T_ext'])  # outdoor temperature\n",
    "q     = np.array(dataset['q'])      # indoor prescribed heat\n",
    "\n",
    "delta_t = time_[1] - time_[0]       # time step size\n",
    "u = np.vstack([T_ext ,q]).T     # array of all inputs\n",
    "\n",
    "def RC_model_simulation(time_, R1, R2, C1, C2, xe_0):\n",
    "    \n",
    "    # Matrices of the system in continuous form\n",
    "    Ac = np.array([[-1/(C1*R1)-1/(C1*R2), 1/(C1*R2)],\n",
    "                   [1/(C2*R2), -1/(C2*R2)]])\n",
    "    Bc = np.array([[1/(C1*R1), 0],\n",
    "                   [0, 1/C2]])\n",
    "    \n",
    "    # Matrices of the discretized state-space model\n",
    "    F = expm(Ac*delta_t)\n",
    "    G = dot3(inv(Ac), F-np.eye(2), Bc)\n",
    "    H = np.array([[0, 1]])\n",
    "    \n",
    "    # Initialisation of the states\n",
    "    x = np.zeros((len(time_), 2))\n",
    "    x[0] = np.array((xe_0, T_in[0]))\n",
    "    \n",
    "    # Simulation\n",
    "    for i in range(1,len(time_)):\n",
    "        x[i] = np.dot(F, x[i-1]) + np.dot(G, u[i-1])\n",
    "    \n",
    "    # This function returns the second simulated state only\n",
    "    return np.dot(H, x.T).flatten()"
   ]
  },
  {
   "cell_type": "markdown",
   "metadata": {},
   "source": [
    "## Sensitivity analysis\n",
    "\n",
    "A sensitivity analysis is a quick way to estimate the identifiability of a model's parameters, although it is not a sufficient condition for it. The following block of code is an example on how to use the [SALib](https://salib.readthedocs.io/en/latest/) library to run the FAST method."
   ]
  },
  {
   "cell_type": "code",
   "execution_count": 2,
   "metadata": {
    "collapsed": true
   },
   "outputs": [],
   "source": [
    "problem = {'num_vars': 5,\n",
    "           'names': ['R1', 'R2', 'C1', 'C2', 'xe_0'],\n",
    "           'bounds': [[1e-2, 3e-2],\n",
    "                      [1e-3, 3e-3],\n",
    "                      [1e7, 2e7],\n",
    "                      [1.5e6, 2.5e6],\n",
    "                      [25, 35]]}\n",
    "\n",
    "# Create a matrix of model inputs for the FAST method\n",
    "from SALib.sample import fast_sampler\n",
    "X = fast_sampler.sample(problem, 5000, M=4)\n",
    "# Evaluate the output on each parameter of the sample\n",
    "Y = np.zeros(len(X))\n",
    "for i, theta in enumerate(X):\n",
    "    y    = RC_model_simulation(time_, theta[0], theta[1], theta[2], theta[3], theta[4])\n",
    "    Y[i] = np.sum((y-T_in)**2)\n",
    "# Analyse and return sensitivity coefficients\n",
    "from SALib.analyze import fast\n",
    "sa_results = fast.analyze(problem, Y, M=4)"
   ]
  },
  {
   "cell_type": "markdown",
   "metadata": {},
   "source": [
    "Running the code should get you roughly the same results as in the table below:"
   ]
  },
  {
   "cell_type": "code",
   "execution_count": 3,
   "metadata": {
    "collapsed": false
   },
   "outputs": [
    {
     "data": {
      "image/png": "[encoded data removed]",
      "text/plain": [
       "<IPython.core.display.Image object>"
      ]
     },
     "execution_count": 3,
     "metadata": {
      "image/png": {
       "width": 380
      }
     },
     "output_type": "execute_result"
    }
   ],
   "source": [
    "from IPython.display import Image\n",
    "Image(filename='2R2C_sensitivity.png', width = 380)"
   ]
  },
  {
   "cell_type": "markdown",
   "metadata": {},
   "source": [
    "## Likelihood-based confidence regions\n",
    "\n",
    "In the first notebook, parameter estimation results showed some strong interactions between parameters. The highest correlation coefficient is between $R_2$ and $C_2$. This can be illustrated by likelihood-based confidence regions. A grid of $R_2-C_2$ values is first defined. On each point of the grid, the inverse problem is solved on all remaining parameters and the likelihood ratio function is calculated. This allows drawing two-dimensional likelihood-based confidence regions according: this is illustrated by the code below.\n",
    "\n",
    "More details on this method are given in [the review paper](https://www.sciencedirect.com/science/article/pii/S0378778817317942).\n",
    "\n",
    "First, we find the optimal value of all parameters as a reference:"
   ]
  },
  {
   "cell_type": "code",
   "execution_count": 4,
   "metadata": {
    "collapsed": true
   },
   "outputs": [],
   "source": [
    "from scipy.optimize import curve_fit\n",
    "\n",
    "theta_init = [1e-2, 1e-2, 1e7, 1e7, 20]\n",
    "popt, pcov = curve_fit(RC_model_simulation,\n",
    "                       xdata = time_,\n",
    "                       ydata = T_in,\n",
    "                       p0 = theta_init,\n",
    "                       method='lm')\n",
    "\n",
    "# Calculating the indoor temperature predicted with the optimal parameters\n",
    "T_in_opt = RC_model_simulation(time_, popt[0], popt[1], popt[2], popt[3], popt[4])\n",
    "# Least square criterion for the optimal parameters\n",
    "r_opt = np.sum((T_in_opt-T_in)**2)"
   ]
  },
  {
   "cell_type": "markdown",
   "metadata": {},
   "source": [
    "The optimisation is then run sequentially on a grid of fixed values for $R_2$ and $C_2$, in order to display the likelihood profiles"
   ]
  },
  {
   "cell_type": "code",
   "execution_count": null,
   "metadata": {
    "collapsed": true
   },
   "outputs": [],
   "source": [
    "R2_vec = np.linspace(2e-3, 3e-3, num=50)\n",
    "C2_vec = np.linspace(1e6, 3e6, num=50)\n",
    "Ri, Ci = np.meshgrid(R2_vec, C2_vec)\n",
    "\n",
    "# Series of optimizations where the R2 and C2 parameters are fixed\n",
    "theta_init = [1e-2, 1e7, 20]\n",
    "residuals = np.zeros_like(Ri.ravel())\n",
    "for i in range(len(Ri.ravel())):\n",
    "    \n",
    "    def RC_model_simulation_R2C2fixed(time_, R1, C1, xe_0):\n",
    "        return RC_model_simulation(time_, R1, Ri.ravel()[i], C1, Ci.ravel()[i], xe_0)\n",
    "        \n",
    "    popt, pcov = curve_fit(RC_model_simulation_R2C2fixed,\n",
    "                           xdata = time_,\n",
    "                           ydata = T_in,\n",
    "                           p0 = theta_init,\n",
    "                           method='lm')\n",
    "    \n",
    "    y    = RC_model_simulation(time_, popt[0], Ri.ravel()[i], popt[1],\n",
    "                               Ci.ravel()[i], popt[2])\n",
    "    residuals[i] = np.sum((y-T_in)**2)\n",
    "\n",
    "# This is equivalent to the Likelihood ratio function\n",
    "profile_likelihood = np.reshape((residuals-r_opt), (50,50))\n",
    "# Quantiles of the chi2 distribution\n",
    "percentiles = [0, 50, 75, 95, 99, 100]\n",
    "levels = [ np.percentile(np.random.chisquare(2, size = 9000), q=_) \n",
    "            for _ in percentiles ]"
   ]
  },
  {
   "cell_type": "code",
   "execution_count": 6,
   "metadata": {
    "collapsed": false
   },
   "outputs": [
    {
     "data": {
      "text/plain": [
       "[<matplotlib.text.Text at 0x7f4a46a45e10>,\n",
       " <matplotlib.text.Text at 0x7f4a46a480f0>,\n",
       " <matplotlib.text.Text at 0x7f4a46a5fac8>,\n",
       " <matplotlib.text.Text at 0x7f4a46be95f8>,\n",
       " <matplotlib.text.Text at 0x7f4a46abb320>,\n",
       " <matplotlib.text.Text at 0x7f4a46abbcf8>]"
      ]
     },
     "execution_count": 6,
     "metadata": {},
     "output_type": "execute_result"
    },
    {
     "data": {
      "image/png": "[encoded data removed]",
      "text/plain": [
       "<matplotlib.figure.Figure at 0x7f4a4ecaeda0>"
      ]
     },
     "metadata": {},
     "output_type": "display_data"
    }
   ],
   "source": [
    "# Plotting\n",
    "%matplotlib inline\n",
    "import matplotlib.pyplot as plt\n",
    "fig = plt.figure(figsize=(4, 3))\n",
    "cax = plt.contourf(Ri*1000, Ci/1e6, profile_likelihood,\n",
    "                   levels = levels, cmap = 'Greys_r')\n",
    "plt.xlabel('Thermal resistance $R_2$ (.$10^{-3}$ W/K)')\n",
    "plt.ylabel('Thermal capacitance $C_2$ (.$10^6$ J/K)')\n",
    "cbar = fig.colorbar(cax, ticks=levels)\n",
    "cbar.ax.set_yticklabels(percentiles)"
   ]
  }
 ],
 "metadata": {
  "anaconda-cloud": {},
  "kernelspec": {
   "display_name": "Python [default]",
   "language": "python",
   "name": "python3"
  },
  "language_info": {
   "codemirror_mode": {
    "name": "ipython",
    "version": 3
   },
   "file_extension": ".py",
   "mimetype": "text/x-python",
   "name": "python",
   "nbconvert_exporter": "python",
   "pygments_lexer": "ipython3",
   "version": "3.5.2"
  }
 },
 "nbformat": 4,
 "nbformat_minor": 1
}
